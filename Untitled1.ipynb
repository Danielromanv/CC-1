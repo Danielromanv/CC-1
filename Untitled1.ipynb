{
 "cells": [
  {
   "cell_type": "code",
   "execution_count": null,
   "metadata": {},
   "outputs": [],
   "source": [
    "import numpy\n",
    "M = 10\n",
    "equis = lambda i : 100*i/M\n",
    "func = lambda ym1, y, i: ((equis(i+1)-equis(i))/2)*((ym1*numpy.cos(equis(i+1)+ym1))+(y*numpy.cos(equis(i)+y)))+y-ym1\n",
    "res_inicio = 1\n",
    "res_fin = 1\n",
    "y_ant = 1\n",
    "tol = 1e-8\n",
    "total_intentos = 0\n",
    "\n",
    "for i in range(0,M+1):\n",
    "    x_inicio = -numpy.pi\n",
    "    x_fin = numpy.pi\n",
    "    res_inicio = func(x_inicio,y_ant,i)\n",
    "    res_fin = func(x_fin,y_ant,i)\n",
    "    intentos = 1\n",
    "    print(\"[\"+str(res_inicio)+\", \"+str(res_fin)+\"]\")\n",
    "    while numpy.sign(res_inicio) == numpy.sign(res_fin):\n",
    "        x_inicio -= 1\n",
    "        x_fin += 1\n",
    "        res_inicio = func(x_inicio,y_ant,i)\n",
    "        res_fin = func(x_fin,y_ant,i)\n",
    "        intentos += 1\n",
    "\n",
    "        total_intentos+= intentos\n",
    "    print(\"El intervalo es el siguiente\" +str(x_inicio)+\" \"+str(x_fin)+ \"+ , obtenido en {intentos} iteraciones\")\n",
    "    y_ant = bisect(func,x_inicio,x_fin,i,y_ant)\n",
    "\n",
    "            "
   ]
  },
  {
   "cell_type": "code",
   "execution_count": null,
   "metadata": {},
   "outputs": [],
   "source": [
    "import numpy as np\n",
    "def bisect(f, a, b,ite,y_ant, tol=1e-8):\n",
    "    fa = f(a,y_ant,ite)\n",
    "    fb = f(b,y_ant,ite)\n",
    "    i = 0\n",
    "    # Just checking if the sign is not negative => not root  necessarily \n",
    "    if np.sign(fa*fb) >= 0:\n",
    "        print('f(a)f(b)<0 not satisfied!')\n",
    "        return None\n",
    "  \n",
    "    #Printing the evolution of the computation of the root\n",
    "    print(' i |     a     |     c     |     b     |     fa    |     fc     |     fb     |   b-a')\n",
    "    print('----------------------------------------------------------------------------------------')\n",
    "    \n",
    "    while(b-a)/2 > tol:\n",
    "        c = (a+b)/2.\n",
    "        fc = f(c,y_ant,ite)\n",
    "        print('%2d | %.7f | %.7f | %.7f | %.7f | %.7f | %.7f | %.7f' %\n",
    "              (i+1, a, c, b, fa, fc, fb, b-a))\n",
    "        # Did we find the root?\n",
    "        if fc == 0:\n",
    "            print('f(c)==0')\n",
    "            break\n",
    "        elif np.sign(fa*fc) < 0:\n",
    "            b = c\n",
    "            fb = fc\n",
    "        else:\n",
    "            a = c\n",
    "            fa = fc\n",
    "        i += 1\n",
    "        \n",
    "    xc = (a+b)/2.\n",
    "    return xc"
   ]
  }
 ],
 "metadata": {
  "kernelspec": {
   "display_name": "Python 3",
   "language": "python",
   "name": "python3"
  },
  "language_info": {
   "codemirror_mode": {
    "name": "ipython",
    "version": 3
   },
   "file_extension": ".py",
   "mimetype": "text/x-python",
   "name": "python",
   "nbconvert_exporter": "python",
   "pygments_lexer": "ipython3",
   "version": "3.6.3"
  }
 },
 "nbformat": 4,
 "nbformat_minor": 2
}
